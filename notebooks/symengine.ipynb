{
 "cells": [
  {
   "cell_type": "markdown",
   "metadata": {},
   "source": [
    "## Installation\n",
    "\n",
    "Install `xeus-cling`:\n",
    "\n",
    "    conda install -c conda-forge xeus-cling"
   ]
  },
  {
   "cell_type": "code",
   "execution_count": null,
   "metadata": {},
   "outputs": [],
   "source": [
    "#include <cstring>\n",
    "#include <iostream>\n",
    "\n",
    "#include <symengine/visitor.h>\n",
    "#include <symengine/eval_double.h>\n",
    "#include <symengine/derivative.h>\n",
    "#include <symengine/symengine_exception.h>"
   ]
  },
  {
   "cell_type": "code",
   "execution_count": null,
   "metadata": {},
   "outputs": [],
   "source": [
    "using SymEngine::RCP;\n",
    "using SymEngine::Symbol;\n",
    "using SymEngine::symbol;\n",
    "using SymEngine::add;\n",
    "RCP<const Symbol> x = symbol(\"x\");"
   ]
  },
  {
   "cell_type": "code",
   "execution_count": null,
   "metadata": {},
   "outputs": [],
   "source": [
    "std::cout << *x;"
   ]
  },
  {
   "cell_type": "code",
   "execution_count": null,
   "metadata": {},
   "outputs": [],
   "source": [
    "auto e = add(x, x);\n",
    "std::cout << *e;"
   ]
  },
  {
   "cell_type": "code",
   "execution_count": null,
   "metadata": {},
   "outputs": [],
   "source": []
  }
 ],
 "metadata": {
  "kernelspec": {
   "display_name": "C++17",
   "language": "C++17",
   "name": "xeus-cling-cpp17"
  },
  "language_info": {
   "codemirror_mode": "text/x-c++src",
   "file_extension": ".cpp",
   "mimetype": "text/x-c++src",
   "name": "c++",
   "version": "-std=c++17"
  }
 },
 "nbformat": 4,
 "nbformat_minor": 2
}
